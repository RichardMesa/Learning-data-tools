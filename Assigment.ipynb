{
 "cells": [
  {
   "cell_type": "markdown",
   "id": "b2aa5026-f474-4593-a310-11687ecf86c7",
   "metadata": {},
   "source": [
    "# My Jupyter Notebook on IBM Watson Studio"
   ]
  },
  {
   "cell_type": "markdown",
   "id": "49e7f718-bf58-43e9-8894-9a17fbcb4c79",
   "metadata": {},
   "source": [
    "**Richard Mesa**  \n",
    "My background is Aeronautical Engineering but I have the expectation  to be a Data Scientist  "
   ]
  },
  {
   "cell_type": "markdown",
   "id": "bf7560b0-1357-41d1-8e4e-5b1001a5aab5",
   "metadata": {},
   "source": [
    "*I`M interested in Data Science because I have being working with data for many years and in different roles ( Quality, Eng, Production) and with the use of the Data Science Tools like ML and AI, I can make better analysis and predictions*"
   ]
  },
  {
   "cell_type": "markdown",
   "id": "7cdab8ba-d2fb-4efe-96ce-6e7cacf206d0",
   "metadata": {
    "jupyter": {
     "source_hidden": true
    },
    "tags": []
   },
   "source": [
    "### The Code in Cell 5 will Import the Math Module From Python, then define a Variable with the \" Pi \" number and finally Print the \"Pi\" value"
   ]
  },
  {
   "cell_type": "code",
   "execution_count": 1,
   "id": "a40f0eda-e8b7-4c20-ba2d-6335b0d6a39c",
   "metadata": {
    "tags": []
   },
   "outputs": [
    {
     "name": "stdout",
     "output_type": "stream",
     "text": [
      "3.141592653589793\n"
     ]
    }
   ],
   "source": [
    "import math\n",
    "x=math.pi\n",
    "print(x)"
   ]
  },
  {
   "cell_type": "markdown",
   "id": "fc80123e-6342-4c81-9aa4-c58d9bc62de9",
   "metadata": {
    "jp-MarkdownHeadingCollapsed": true,
    "tags": []
   },
   "source": [
    ">Block \n",
    "\n",
    "1. Good  \n",
    "2. Better \n",
    "3. Best \n",
    "\n",
    "--- \n"
   ]
  },
  {
   "cell_type": "code",
   "execution_count": null,
   "id": "2e98ae47-9560-4d7e-b151-7116446aab74",
   "metadata": {},
   "outputs": [],
   "source": []
  },
  {
   "cell_type": "code",
   "execution_count": null,
   "id": "75704f44-d2c2-4017-8eae-0bcf329bc066",
   "metadata": {},
   "outputs": [],
   "source": []
  }
 ],
 "metadata": {
  "kernelspec": {
   "display_name": "Python",
   "language": "python",
   "name": "conda-env-python-py"
  },
  "language_info": {
   "codemirror_mode": {
    "name": "ipython",
    "version": 3
   },
   "file_extension": ".py",
   "mimetype": "text/x-python",
   "name": "python",
   "nbconvert_exporter": "python",
   "pygments_lexer": "ipython3",
   "version": "3.7.12"
  }
 },
 "nbformat": 4,
 "nbformat_minor": 5
}
